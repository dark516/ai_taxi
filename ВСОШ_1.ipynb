{
 "cells": [
  {
   "cell_type": "markdown",
   "metadata": {
    "id": "GN8YdQGDqwoh"
   },
   "source": [
    "#Купил значит я себе рахат-лукум, как в Греции"
   ]
  },
  {
   "cell_type": "code",
   "execution_count": 3,
   "metadata": {
    "colab": {
     "base_uri": "https://localhost:8080/"
    },
    "executionInfo": {
     "elapsed": 16644,
     "status": "ok",
     "timestamp": 1731269452816,
     "user": {
      "displayName": "Николай Галаев",
      "userId": "02418557182704804760"
     },
     "user_tz": -180
    },
    "id": "A13AoAbCsxxJ",
    "outputId": "5f0b2a2e-54bb-44c3-b0cd-e8eac158667b"
   },
   "outputs": [
    {
     "name": "stdout",
     "output_type": "stream",
     "text": [
      "Defaulting to user installation because normal site-packages is not writeable\n",
      "Requirement already satisfied: catboost in /home/dark516/.local/lib/python3.12/site-packages (1.2.7)\n",
      "Requirement already satisfied: graphviz in /home/dark516/.local/lib/python3.12/site-packages (from catboost) (0.20.3)\n",
      "Requirement already satisfied: matplotlib in /usr/lib/python3/dist-packages (from catboost) (3.6.3)\n",
      "Requirement already satisfied: numpy<2.0,>=1.16.0 in /usr/lib/python3/dist-packages (from catboost) (1.26.4)\n",
      "Requirement already satisfied: pandas>=0.24 in /home/dark516/.local/lib/python3.12/site-packages (from catboost) (2.2.3)\n",
      "Requirement already satisfied: scipy in /usr/lib/python3/dist-packages (from catboost) (1.11.4)\n",
      "Requirement already satisfied: plotly in /home/dark516/.local/lib/python3.12/site-packages (from catboost) (5.24.1)\n",
      "Requirement already satisfied: six in /home/dark516/.local/lib/python3.12/site-packages (from catboost) (1.16.0)\n",
      "Requirement already satisfied: python-dateutil>=2.8.2 in /home/dark516/.local/lib/python3.12/site-packages (from pandas>=0.24->catboost) (2.9.0.post0)\n",
      "Requirement already satisfied: pytz>=2020.1 in /usr/lib/python3/dist-packages (from pandas>=0.24->catboost) (2024.1)\n",
      "Requirement already satisfied: tzdata>=2022.7 in /home/dark516/.local/lib/python3.12/site-packages (from pandas>=0.24->catboost) (2024.2)\n",
      "Requirement already satisfied: tenacity>=6.2.0 in /home/dark516/.local/lib/python3.12/site-packages (from plotly->catboost) (9.0.0)\n",
      "Requirement already satisfied: packaging in /home/dark516/.local/lib/python3.12/site-packages (from plotly->catboost) (24.1)\n",
      "Defaulting to user installation because normal site-packages is not writeable\n",
      "Collecting unrar\n",
      "  Downloading unrar-0.4-py3-none-any.whl.metadata (3.0 kB)\n",
      "Downloading unrar-0.4-py3-none-any.whl (25 kB)\n",
      "Installing collected packages: unrar\n",
      "Successfully installed unrar-0.4\n"
     ]
    }
   ],
   "source": [
    "!pip install catboost --break-system-packages # Теперь я вич инфецированный\n",
    "!pip install unrar --break-system-packages"
   ]
  },
  {
   "cell_type": "code",
   "execution_count": 19,
   "metadata": {
    "executionInfo": {
     "elapsed": 3683,
     "status": "ok",
     "timestamp": 1731272273265,
     "user": {
      "displayName": "Николай Галаев",
      "userId": "02418557182704804760"
     },
     "user_tz": -180
    },
    "id": "fcsJpL97sOij"
   },
   "outputs": [],
   "source": [
    "import numpy as np\n",
    "import pandas as pd\n",
    "import math\n",
    "from catboost import CatBoostRegressor, Pool\n",
    "from sklearn.model_selection import train_test_split\n",
    "from sklearn.metrics import accuracy_score, mean_squared_error"
   ]
  },
  {
   "cell_type": "code",
   "execution_count": null,
   "metadata": {
    "colab": {
     "base_uri": "https://localhost:8080/"
    },
    "executionInfo": {
     "elapsed": 288,
     "status": "ok",
     "timestamp": 1731272276755,
     "user": {
      "displayName": "Николай Галаев",
      "userId": "02418557182704804760"
     },
     "user_tz": -180
    },
    "id": "zhH_B_M7q4A6",
    "outputId": "4220cc26-b7b7-4c00-b2d3-b204feea91ae"
   },
   "outputs": [
    {
     "name": "stdout",
     "output_type": "stream",
     "text": [
      "unzip:  cannot find or open /content/drive/MyDrive/Попытки-в-Catboost/new-york-city-taxi-fare-prediction.zip, /content/drive/MyDrive/Попытки-в-Catboost/new-york-city-taxi-fare-prediction.zip.zip or /content/drive/MyDrive/Попытки-в-Catboost/new-york-city-taxi-fare-prediction.zip.ZIP.\n"
     ]
    }
   ],
   "source": [
    "!unzip /content/drive/MyDrive/Попытки-в-Catboost/new-york-city-taxi-fare-prediction.zip"
   ]
  },
  {
   "cell_type": "code",
   "execution_count": 7,
   "metadata": {
    "executionInfo": {
     "elapsed": 227,
     "status": "ok",
     "timestamp": 1731269273414,
     "user": {
      "displayName": "Николай Галаев",
      "userId": "02418557182704804760"
     },
     "user_tz": -180
    },
    "id": "olYyCTnjjrUa"
   },
   "outputs": [],
   "source": [
    "# Функция для расчета расстояния между координатами\n",
    "def haversine_distance(lat1, lon1, lat2, lon2):\n",
    "    R = 6371  # Радиус Земли в километрах\n",
    "    phi1, phi2 = np.radians(lat1), np.radians(lat2)\n",
    "    delta_phi = np.radians(lat2 - lat1)\n",
    "    delta_lambda = np.radians(lon2 - lon1)\n",
    "    a = np.sin(delta_phi / 2) ** 2 + np.cos(phi1) * np.cos(phi2) * np.sin(delta_lambda / 2) ** 2\n",
    "    return R * (2 * np.arctan2(np.sqrt(a), np.sqrt(1 - a)))"
   ]
  },
  {
   "cell_type": "code",
   "execution_count": 8,
   "metadata": {
    "colab": {
     "base_uri": "https://localhost:8080/",
     "height": 183
    },
    "executionInfo": {
     "elapsed": 291,
     "status": "error",
     "timestamp": 1731269274945,
     "user": {
      "displayName": "Николай Галаев",
      "userId": "02418557182704804760"
     },
     "user_tz": -180
    },
    "id": "G1hP1hFCjr1g",
    "outputId": "ef823f89-992e-4ed1-b041-091e66606672"
   },
   "outputs": [],
   "source": [
    "# Загрузка данных\n",
    "data = pd.read_csv('/home/dark516/Desktop/vsosii_kolya/AI_code_vseross_AI/new-york-city-taxi-fare-prediction/train.csv', nrows=1000000)\n",
    "data = data.dropna() # Убираем пустые значения"
   ]
  },
  {
   "cell_type": "code",
   "execution_count": 9,
   "metadata": {
    "id": "Tr568zi2j0PB"
   },
   "outputs": [],
   "source": [
    "# Преобразование даты и времени\n",
    "data['pickup_datetime'] = pd.to_datetime(data['pickup_datetime'], errors='coerce')\n",
    "data = data.dropna(subset=['pickup_datetime'])"
   ]
  },
  {
   "cell_type": "code",
   "execution_count": 10,
   "metadata": {
    "id": "aqCIBLbPkTmh"
   },
   "outputs": [],
   "source": [
    "# Создание временных признаков\n",
    "data['year'] = data['pickup_datetime'].dt.year\n",
    "data['month'] = data['pickup_datetime'].dt.month\n",
    "data['day'] = data['pickup_datetime'].dt.day\n",
    "data['day_of_week'] = data['pickup_datetime'].dt.dayofweek\n",
    "data['hour'] = data['pickup_datetime'].dt.hour"
   ]
  },
  {
   "cell_type": "code",
   "execution_count": 11,
   "metadata": {
    "id": "Erp1OKC3kWMB"
   },
   "outputs": [],
   "source": [
    "# Создание признака расстояния\n",
    "data['distance'] = haversine_distance(data['pickup_latitude'], data['pickup_longitude'],\n",
    "                                      data['dropoff_latitude'], data['dropoff_longitude'])"
   ]
  },
  {
   "cell_type": "code",
   "execution_count": 12,
   "metadata": {
    "id": "yECcfDz3kZcJ"
   },
   "outputs": [],
   "source": [
    "features = ['pickup_longitude', 'pickup_latitude', 'dropoff_longitude', 'dropoff_latitude',\n",
    "            'passenger_count', 'year', 'month', 'day', 'day_of_week', 'hour', 'distance']\n",
    "target = 'fare_amount'\n",
    "\n",
    "X = data[features]\n",
    "y = data[target]\n",
    "\n",
    "# Разделение данных\n",
    "X_train, X_val, y_train, y_val = train_test_split(X, y, test_size=0.2, random_state=42)"
   ]
  },
  {
   "cell_type": "code",
   "execution_count": 21,
   "metadata": {
    "colab": {
     "base_uri": "https://localhost:8080/"
    },
    "executionInfo": {
     "elapsed": 66393,
     "status": "ok",
     "timestamp": 1731267541390,
     "user": {
      "displayName": "Николай Галаев",
      "userId": "02418557182704804760"
     },
     "user_tz": -180
    },
    "id": "irjBP2JokjQ5",
    "outputId": "e13be9e3-7665-4992-b786-518c548a5290"
   },
   "outputs": [
    {
     "name": "stdout",
     "output_type": "stream",
     "text": [
      "0:\tlearn: 9.1208654\ttest: 9.1393277\tbest: 9.1393277 (0)\ttotal: 74.6ms\tremaining: 1m 21s\n",
      "100:\tlearn: 4.1874807\ttest: 4.4096926\tbest: 4.4096926 (100)\ttotal: 4.41s\tremaining: 43.6s\n",
      "200:\tlearn: 3.9535158\ttest: 4.3429366\tbest: 4.3429366 (200)\ttotal: 8.69s\tremaining: 38.8s\n",
      "300:\tlearn: 3.8136933\ttest: 4.3115999\tbest: 4.3115999 (300)\ttotal: 12.9s\tremaining: 34.2s\n",
      "400:\tlearn: 3.7036795\ttest: 4.3013155\tbest: 4.3012392 (399)\ttotal: 17.2s\tremaining: 30s\n",
      "500:\tlearn: 3.6188206\ttest: 4.2971905\tbest: 4.2965746 (499)\ttotal: 21.4s\tremaining: 25.6s\n",
      "600:\tlearn: 3.5400298\ttest: 4.2918706\tbest: 4.2917266 (599)\ttotal: 25.6s\tremaining: 21.2s\n",
      "700:\tlearn: 3.4792678\ttest: 4.2879476\tbest: 4.2878324 (687)\ttotal: 29.8s\tremaining: 17s\n",
      "800:\tlearn: 3.4277746\ttest: 4.2882074\tbest: 4.2869488 (749)\ttotal: 34.1s\tremaining: 12.7s\n",
      "900:\tlearn: 3.3827338\ttest: 4.2877059\tbest: 4.2869488 (749)\ttotal: 38.3s\tremaining: 8.46s\n",
      "1000:\tlearn: 3.3409568\ttest: 4.2882746\tbest: 4.2869488 (749)\ttotal: 42.5s\tremaining: 4.21s\n",
      "1099:\tlearn: 3.3014162\ttest: 4.2895185\tbest: 4.2869488 (749)\ttotal: 46.8s\tremaining: 0us\n",
      "\n",
      "bestTest = 4.286948768\n",
      "bestIteration = 749\n",
      "\n",
      "Shrink model to first 750 iterations.\n"
     ]
    },
    {
     "data": {
      "text/plain": [
       "<catboost.core.CatBoostRegressor at 0x7467a8a192b0>"
      ]
     },
     "execution_count": 21,
     "metadata": {},
     "output_type": "execute_result"
    }
   ],
   "source": [
    "# Создание и обучение модели\n",
    "model = CatBoostRegressor(iterations=1100, learning_rate=0.1, depth=10, loss_function='RMSE', verbose=100)\n",
    "model.fit(X_train, y_train, eval_set=(X_val, y_val), verbose=100)"
   ]
  },
  {
   "cell_type": "code",
   "execution_count": 22,
   "metadata": {
    "colab": {
     "base_uri": "https://localhost:8080/"
    },
    "executionInfo": {
     "elapsed": 2,
     "status": "ok",
     "timestamp": 1731267544970,
     "user": {
      "displayName": "Николай Галаев",
      "userId": "02418557182704804760"
     },
     "user_tz": -180
    },
    "id": "cP7Pie74kkqB",
    "outputId": "be9863b4-5429-4f17-a112-9cc4a63cff87"
   },
   "outputs": [
    {
     "name": "stdout",
     "output_type": "stream",
     "text": [
      "RMSE на тестовой выборке: 4.29\n"
     ]
    }
   ],
   "source": [
    "# Оценка модели\n",
    "y_pred = model.predict(X_val)\n",
    "rmse = math.sqrt(mean_squared_error(y_val, y_pred))\n",
    "print(f\"RMSE на тестовой выборке: {rmse:.2f}\")"
   ]
  },
  {
   "cell_type": "code",
   "execution_count": 23,
   "metadata": {
    "id": "oJtlDL7okoV5"
   },
   "outputs": [],
   "source": [
    "# Загрузка тестовых данных\n",
    "test_data = pd.read_csv('new-york-city-taxi-fare-prediction/test.csv')\n",
    "\n",
    "# Предобработка тестовых данных\n",
    "test_data['pickup_datetime'] = pd.to_datetime(test_data['pickup_datetime'], errors='coerce')\n",
    "test_data['year'] = test_data['pickup_datetime'].dt.year\n",
    "test_data['month'] = test_data['pickup_datetime'].dt.month\n",
    "test_data['day'] = test_data['pickup_datetime'].dt.day\n",
    "test_data['day_of_week'] = test_data['pickup_datetime'].dt.dayofweek\n",
    "test_data['hour'] = test_data['pickup_datetime'].dt.hour\n",
    "\n",
    "test_data['distance'] = haversine_distance(test_data['pickup_latitude'], test_data['pickup_longitude'],\n",
    "                                      test_data['dropoff_latitude'], test_data['dropoff_longitude'])"
   ]
  },
  {
   "cell_type": "code",
   "execution_count": 24,
   "metadata": {
    "colab": {
     "base_uri": "https://localhost:8080/"
    },
    "executionInfo": {
     "elapsed": 680,
     "status": "ok",
     "timestamp": 1731267550566,
     "user": {
      "displayName": "Николай Галаев",
      "userId": "02418557182704804760"
     },
     "user_tz": -180
    },
    "id": "zBQFVd1vkwCQ",
    "outputId": "12645c33-2f5c-4499-d7db-f5266ae5557a"
   },
   "outputs": [
    {
     "name": "stdout",
     "output_type": "stream",
     "text": [
      "Файл taxi_fare_submission.csv успешно создан.\n"
     ]
    }
   ],
   "source": [
    "predictions = model.predict(test_data[features]) # ТО САМОЕ ПРЕДСКАЗАНИЕ\n",
    "\n",
    "# Создаем DataFrame для отправки\n",
    "submission = pd.DataFrame({\n",
    "    'key': test_data['key'],\n",
    "    'fare_amount': predictions\n",
    "    })\n",
    "\n",
    "# Сохранение результатов\n",
    "submission.to_csv('taxi_fare_submission.csv', index=False)\n",
    "print(\"Файл taxi_fare_submission.csv успешно создан.\")"
   ]
  }
 ],
 "metadata": {
  "colab": {
   "authorship_tag": "ABX9TyPHMOd4Qp9uCEFnM+3lD/eG",
   "provenance": []
  },
  "kernelspec": {
   "display_name": "Python 3",
   "name": "python3"
  },
  "language_info": {
   "codemirror_mode": {
    "name": "ipython",
    "version": 3
   },
   "file_extension": ".py",
   "mimetype": "text/x-python",
   "name": "python",
   "nbconvert_exporter": "python",
   "pygments_lexer": "ipython3",
   "version": "3.12.3"
  }
 },
 "nbformat": 4,
 "nbformat_minor": 0
}
