{
 "cells": [
  {
   "cell_type": "markdown",
   "metadata": {
    "id": "GN8YdQGDqwoh"
   },
   "source": [
    "#Купил значит я себе рахат-лукум, как в Греции"
   ]
  },
  {
   "cell_type": "code",
   "execution_count": null,
   "metadata": {
    "colab": {
     "base_uri": "https://localhost:8080/"
    },
    "executionInfo": {
     "elapsed": 16644,
     "status": "ok",
     "timestamp": 1731269452816,
     "user": {
      "displayName": "Николай Галаев",
      "userId": "02418557182704804760"
     },
     "user_tz": -180
    },
    "id": "A13AoAbCsxxJ",
    "outputId": "5f0b2a2e-54bb-44c3-b0cd-e8eac158667b"
   },
   "outputs": [
    {
     "name": "stdout",
     "output_type": "stream",
     "text": [
      "Defaulting to user installation because normal site-packages is not writeable\n",
      "Requirement already satisfied: catboost in /home/dark516/.local/lib/python3.12/site-packages (1.2.7)\n",
      "Requirement already satisfied: graphviz in /home/dark516/.local/lib/python3.12/site-packages (from catboost) (0.20.3)\n",
      "Requirement already satisfied: matplotlib in /usr/lib/python3/dist-packages (from catboost) (3.6.3)\n",
      "Requirement already satisfied: numpy<2.0,>=1.16.0 in /usr/lib/python3/dist-packages (from catboost) (1.26.4)\n",
      "Requirement already satisfied: pandas>=0.24 in /home/dark516/.local/lib/python3.12/site-packages (from catboost) (2.2.3)\n",
      "Requirement already satisfied: scipy in /usr/lib/python3/dist-packages (from catboost) (1.11.4)\n",
      "Requirement already satisfied: plotly in /home/dark516/.local/lib/python3.12/site-packages (from catboost) (5.24.1)\n",
      "Requirement already satisfied: six in /home/dark516/.local/lib/python3.12/site-packages (from catboost) (1.16.0)\n",
      "Requirement already satisfied: python-dateutil>=2.8.2 in /home/dark516/.local/lib/python3.12/site-packages (from pandas>=0.24->catboost) (2.9.0.post0)\n",
      "Requirement already satisfied: pytz>=2020.1 in /usr/lib/python3/dist-packages (from pandas>=0.24->catboost) (2024.1)\n",
      "Requirement already satisfied: tzdata>=2022.7 in /home/dark516/.local/lib/python3.12/site-packages (from pandas>=0.24->catboost) (2024.2)\n",
      "Requirement already satisfied: tenacity>=6.2.0 in /home/dark516/.local/lib/python3.12/site-packages (from plotly->catboost) (9.0.0)\n",
      "Requirement already satisfied: packaging in /home/dark516/.local/lib/python3.12/site-packages (from plotly->catboost) (24.1)\n",
      "Defaulting to user installation because normal site-packages is not writeable\n",
      "Collecting unrar\n",
      "  Downloading unrar-0.4-py3-none-any.whl.metadata (3.0 kB)\n",
      "Downloading unrar-0.4-py3-none-any.whl (25 kB)\n",
      "Installing collected packages: unrar\n",
      "Successfully installed unrar-0.4\n"
     ]
    }
   ],
   "source": [
    "!pip install catboost # Теперь я вич инфецированный\n",
    "!pip install unrar"
   ]
  },
  {
   "cell_type": "code",
   "execution_count": 139,
   "metadata": {
    "executionInfo": {
     "elapsed": 3683,
     "status": "ok",
     "timestamp": 1731272273265,
     "user": {
      "displayName": "Николай Галаев",
      "userId": "02418557182704804760"
     },
     "user_tz": -180
    },
    "id": "fcsJpL97sOij"
   },
   "outputs": [],
   "source": [
    "import numpy as np\n",
    "import pandas as pd\n",
    "import math\n",
    "from catboost import CatBoostRegressor, Pool\n",
    "from sklearn.model_selection import train_test_split\n",
    "from sklearn.metrics import accuracy_score, mean_squared_error\n",
    "\n",
    "import matplotlib.pyplot as plt"
   ]
  },
  {
   "cell_type": "code",
   "execution_count": 1,
   "metadata": {
    "colab": {
     "base_uri": "https://localhost:8080/"
    },
    "executionInfo": {
     "elapsed": 288,
     "status": "ok",
     "timestamp": 1731272276755,
     "user": {
      "displayName": "Николай Галаев",
      "userId": "02418557182704804760"
     },
     "user_tz": -180
    },
    "id": "zhH_B_M7q4A6",
    "outputId": "4220cc26-b7b7-4c00-b2d3-b204feea91ae"
   },
   "outputs": [
    {
     "name": "stdout",
     "output_type": "stream",
     "text": [
      "unzip:  cannot find or open /content/drive/MyDrive/Попытки-в-Catboost/new-york-city-taxi-fare-prediction.zip, /content/drive/MyDrive/Попытки-в-Catboost/new-york-city-taxi-fare-prediction.zip.zip or /content/drive/MyDrive/Попытки-в-Catboost/new-york-city-taxi-fare-prediction.zip.ZIP.\n"
     ]
    }
   ],
   "source": [
    "!unzip /content/drive/MyDrive/Попытки-в-Catboost/new-york-city-taxi-fare-prediction.zip"
   ]
  },
  {
   "cell_type": "code",
   "execution_count": 140,
   "metadata": {
    "executionInfo": {
     "elapsed": 227,
     "status": "ok",
     "timestamp": 1731269273414,
     "user": {
      "displayName": "Николай Галаев",
      "userId": "02418557182704804760"
     },
     "user_tz": -180
    },
    "id": "olYyCTnjjrUa"
   },
   "outputs": [],
   "source": [
    "# Функция для расчета расстояния между координатами\n",
    "def haversine_distance(lat1, lon1, lat2, lon2):\n",
    "    R = 6371  # Радиус Земли в километрах\n",
    "    phi1, phi2 = np.radians(lat1), np.radians(lat2)\n",
    "    delta_phi = np.radians(lat2 - lat1)\n",
    "    delta_lambda = np.radians(lon2 - lon1)\n",
    "    a = np.sin(delta_phi / 2) ** 2 + np.cos(phi1) * np.cos(phi2) * np.sin(delta_lambda / 2) ** 2\n",
    "    return R * (2 * np.arctan2(np.sqrt(a), np.sqrt(1 - a)))"
   ]
  },
  {
   "cell_type": "code",
   "execution_count": 157,
   "metadata": {
    "colab": {
     "base_uri": "https://localhost:8080/",
     "height": 183
    },
    "executionInfo": {
     "elapsed": 291,
     "status": "error",
     "timestamp": 1731269274945,
     "user": {
      "displayName": "Николай Галаев",
      "userId": "02418557182704804760"
     },
     "user_tz": -180
    },
    "id": "G1hP1hFCjr1g",
    "outputId": "ef823f89-992e-4ed1-b041-091e66606672"
   },
   "outputs": [],
   "source": [
    "# Загрузка данных\n",
    "data = pd.read_csv('new-york-city-taxi-fare-prediction/train.csv', nrows=2000000)\n",
    "data = data.dropna() # Убираем пустые значения"
   ]
  },
  {
   "cell_type": "code",
   "execution_count": 158,
   "metadata": {
    "id": "Tr568zi2j0PB"
   },
   "outputs": [],
   "source": [
    "# Преобразование даты и времени\n",
    "data['pickup_datetime'] = pd.to_datetime(data['pickup_datetime'], errors='coerce')\n",
    "data = data.dropna(subset=['pickup_datetime'])"
   ]
  },
  {
   "cell_type": "code",
   "execution_count": 159,
   "metadata": {
    "id": "aqCIBLbPkTmh"
   },
   "outputs": [],
   "source": [
    "# Создание временных признаков\n",
    "data['year'] = data['pickup_datetime'].dt.year\n",
    "data['month'] = data['pickup_datetime'].dt.month\n",
    "data['day'] = data['pickup_datetime'].dt.day\n",
    "data['day_of_week'] = data['pickup_datetime'].dt.dayofweek\n",
    "data['hour'] = data['pickup_datetime'].dt.hour"
   ]
  },
  {
   "cell_type": "code",
   "execution_count": 160,
   "metadata": {
    "id": "Erp1OKC3kWMB"
   },
   "outputs": [],
   "source": [
    "# Создание признака расстояния\n",
    "data['distance'] = haversine_distance(data['pickup_latitude'], data['pickup_longitude'],\n",
    "                                      data['dropoff_latitude'], data['dropoff_longitude'])"
   ]
  },
  {
   "cell_type": "code",
   "execution_count": 161,
   "metadata": {},
   "outputs": [
    {
     "data": {
      "text/html": [
       "<div>\n",
       "<style scoped>\n",
       "    .dataframe tbody tr th:only-of-type {\n",
       "        vertical-align: middle;\n",
       "    }\n",
       "\n",
       "    .dataframe tbody tr th {\n",
       "        vertical-align: top;\n",
       "    }\n",
       "\n",
       "    .dataframe thead th {\n",
       "        text-align: right;\n",
       "    }\n",
       "</style>\n",
       "<table border=\"1\" class=\"dataframe\">\n",
       "  <thead>\n",
       "    <tr style=\"text-align: right;\">\n",
       "      <th></th>\n",
       "      <th>fare_amount</th>\n",
       "      <th>pickup_longitude</th>\n",
       "      <th>pickup_latitude</th>\n",
       "      <th>dropoff_longitude</th>\n",
       "      <th>dropoff_latitude</th>\n",
       "      <th>passenger_count</th>\n",
       "      <th>year</th>\n",
       "      <th>month</th>\n",
       "      <th>day</th>\n",
       "      <th>day_of_week</th>\n",
       "      <th>hour</th>\n",
       "      <th>distance</th>\n",
       "    </tr>\n",
       "  </thead>\n",
       "  <tbody>\n",
       "    <tr>\n",
       "      <th>count</th>\n",
       "      <td>1.999986e+06</td>\n",
       "      <td>1.999986e+06</td>\n",
       "      <td>1.999986e+06</td>\n",
       "      <td>1.999986e+06</td>\n",
       "      <td>1.999986e+06</td>\n",
       "      <td>1.999986e+06</td>\n",
       "      <td>1.999986e+06</td>\n",
       "      <td>1.999986e+06</td>\n",
       "      <td>1.999986e+06</td>\n",
       "      <td>1.999986e+06</td>\n",
       "      <td>1.999986e+06</td>\n",
       "      <td>1.999986e+06</td>\n",
       "    </tr>\n",
       "    <tr>\n",
       "      <th>mean</th>\n",
       "      <td>1.134768e+01</td>\n",
       "      <td>-7.252324e+01</td>\n",
       "      <td>3.992965e+01</td>\n",
       "      <td>-7.252395e+01</td>\n",
       "      <td>3.992808e+01</td>\n",
       "      <td>1.684125e+00</td>\n",
       "      <td>2.011740e+03</td>\n",
       "      <td>6.267687e+00</td>\n",
       "      <td>1.571031e+01</td>\n",
       "      <td>3.041727e+00</td>\n",
       "      <td>1.350827e+01</td>\n",
       "      <td>1.952825e+01</td>\n",
       "    </tr>\n",
       "    <tr>\n",
       "      <th>std</th>\n",
       "      <td>9.852609e+00</td>\n",
       "      <td>1.286798e+01</td>\n",
       "      <td>7.983330e+00</td>\n",
       "      <td>1.277497e+01</td>\n",
       "      <td>1.032382e+01</td>\n",
       "      <td>1.314979e+00</td>\n",
       "      <td>1.860588e+00</td>\n",
       "      <td>3.436747e+00</td>\n",
       "      <td>8.681900e+00</td>\n",
       "      <td>1.949844e+00</td>\n",
       "      <td>6.515764e+00</td>\n",
       "      <td>3.677960e+02</td>\n",
       "    </tr>\n",
       "    <tr>\n",
       "      <th>min</th>\n",
       "      <td>-6.200000e+01</td>\n",
       "      <td>-3.377681e+03</td>\n",
       "      <td>-3.458665e+03</td>\n",
       "      <td>-3.383297e+03</td>\n",
       "      <td>-3.461541e+03</td>\n",
       "      <td>0.000000e+00</td>\n",
       "      <td>2.009000e+03</td>\n",
       "      <td>1.000000e+00</td>\n",
       "      <td>1.000000e+00</td>\n",
       "      <td>0.000000e+00</td>\n",
       "      <td>0.000000e+00</td>\n",
       "      <td>0.000000e+00</td>\n",
       "    </tr>\n",
       "    <tr>\n",
       "      <th>25%</th>\n",
       "      <td>6.000000e+00</td>\n",
       "      <td>-7.399208e+01</td>\n",
       "      <td>4.073491e+01</td>\n",
       "      <td>-7.399141e+01</td>\n",
       "      <td>4.073400e+01</td>\n",
       "      <td>1.000000e+00</td>\n",
       "      <td>2.010000e+03</td>\n",
       "      <td>3.000000e+00</td>\n",
       "      <td>8.000000e+00</td>\n",
       "      <td>1.000000e+00</td>\n",
       "      <td>9.000000e+00</td>\n",
       "      <td>1.212743e+00</td>\n",
       "    </tr>\n",
       "    <tr>\n",
       "      <th>50%</th>\n",
       "      <td>8.500000e+00</td>\n",
       "      <td>-7.398181e+01</td>\n",
       "      <td>4.075263e+01</td>\n",
       "      <td>-7.398016e+01</td>\n",
       "      <td>4.075312e+01</td>\n",
       "      <td>1.000000e+00</td>\n",
       "      <td>2.012000e+03</td>\n",
       "      <td>6.000000e+00</td>\n",
       "      <td>1.600000e+01</td>\n",
       "      <td>3.000000e+00</td>\n",
       "      <td>1.400000e+01</td>\n",
       "      <td>2.116157e+00</td>\n",
       "    </tr>\n",
       "    <tr>\n",
       "      <th>75%</th>\n",
       "      <td>1.250000e+01</td>\n",
       "      <td>-7.396713e+01</td>\n",
       "      <td>4.076710e+01</td>\n",
       "      <td>-7.396369e+01</td>\n",
       "      <td>4.076809e+01</td>\n",
       "      <td>2.000000e+00</td>\n",
       "      <td>2.013000e+03</td>\n",
       "      <td>9.000000e+00</td>\n",
       "      <td>2.300000e+01</td>\n",
       "      <td>5.000000e+00</td>\n",
       "      <td>1.900000e+01</td>\n",
       "      <td>3.880093e+00</td>\n",
       "    </tr>\n",
       "    <tr>\n",
       "      <th>max</th>\n",
       "      <td>1.273310e+03</td>\n",
       "      <td>2.856442e+03</td>\n",
       "      <td>2.621628e+03</td>\n",
       "      <td>3.414307e+03</td>\n",
       "      <td>3.345917e+03</td>\n",
       "      <td>2.080000e+02</td>\n",
       "      <td>2.015000e+03</td>\n",
       "      <td>1.200000e+01</td>\n",
       "      <td>3.100000e+01</td>\n",
       "      <td>6.000000e+00</td>\n",
       "      <td>2.300000e+01</td>\n",
       "      <td>1.733020e+04</td>\n",
       "    </tr>\n",
       "  </tbody>\n",
       "</table>\n",
       "</div>"
      ],
      "text/plain": [
       "        fare_amount  pickup_longitude  pickup_latitude  dropoff_longitude  \\\n",
       "count  1.999986e+06      1.999986e+06     1.999986e+06       1.999986e+06   \n",
       "mean   1.134768e+01     -7.252324e+01     3.992965e+01      -7.252395e+01   \n",
       "std    9.852609e+00      1.286798e+01     7.983330e+00       1.277497e+01   \n",
       "min   -6.200000e+01     -3.377681e+03    -3.458665e+03      -3.383297e+03   \n",
       "25%    6.000000e+00     -7.399208e+01     4.073491e+01      -7.399141e+01   \n",
       "50%    8.500000e+00     -7.398181e+01     4.075263e+01      -7.398016e+01   \n",
       "75%    1.250000e+01     -7.396713e+01     4.076710e+01      -7.396369e+01   \n",
       "max    1.273310e+03      2.856442e+03     2.621628e+03       3.414307e+03   \n",
       "\n",
       "       dropoff_latitude  passenger_count          year         month  \\\n",
       "count      1.999986e+06     1.999986e+06  1.999986e+06  1.999986e+06   \n",
       "mean       3.992808e+01     1.684125e+00  2.011740e+03  6.267687e+00   \n",
       "std        1.032382e+01     1.314979e+00  1.860588e+00  3.436747e+00   \n",
       "min       -3.461541e+03     0.000000e+00  2.009000e+03  1.000000e+00   \n",
       "25%        4.073400e+01     1.000000e+00  2.010000e+03  3.000000e+00   \n",
       "50%        4.075312e+01     1.000000e+00  2.012000e+03  6.000000e+00   \n",
       "75%        4.076809e+01     2.000000e+00  2.013000e+03  9.000000e+00   \n",
       "max        3.345917e+03     2.080000e+02  2.015000e+03  1.200000e+01   \n",
       "\n",
       "                day   day_of_week          hour      distance  \n",
       "count  1.999986e+06  1.999986e+06  1.999986e+06  1.999986e+06  \n",
       "mean   1.571031e+01  3.041727e+00  1.350827e+01  1.952825e+01  \n",
       "std    8.681900e+00  1.949844e+00  6.515764e+00  3.677960e+02  \n",
       "min    1.000000e+00  0.000000e+00  0.000000e+00  0.000000e+00  \n",
       "25%    8.000000e+00  1.000000e+00  9.000000e+00  1.212743e+00  \n",
       "50%    1.600000e+01  3.000000e+00  1.400000e+01  2.116157e+00  \n",
       "75%    2.300000e+01  5.000000e+00  1.900000e+01  3.880093e+00  \n",
       "max    3.100000e+01  6.000000e+00  2.300000e+01  1.733020e+04  "
      ]
     },
     "execution_count": 161,
     "metadata": {},
     "output_type": "execute_result"
    }
   ],
   "source": [
    "data.describe()"
   ]
  },
  {
   "cell_type": "code",
   "execution_count": 162,
   "metadata": {},
   "outputs": [
    {
     "data": {
      "text/html": [
       "<div>\n",
       "<style scoped>\n",
       "    .dataframe tbody tr th:only-of-type {\n",
       "        vertical-align: middle;\n",
       "    }\n",
       "\n",
       "    .dataframe tbody tr th {\n",
       "        vertical-align: top;\n",
       "    }\n",
       "\n",
       "    .dataframe thead th {\n",
       "        text-align: right;\n",
       "    }\n",
       "</style>\n",
       "<table border=\"1\" class=\"dataframe\">\n",
       "  <thead>\n",
       "    <tr style=\"text-align: right;\">\n",
       "      <th></th>\n",
       "      <th>type</th>\n",
       "      <th>name</th>\n",
       "      <th>latitude</th>\n",
       "      <th>longitude</th>\n",
       "    </tr>\n",
       "  </thead>\n",
       "  <tbody>\n",
       "    <tr>\n",
       "      <th>0</th>\n",
       "      <td>Airport</td>\n",
       "      <td>Guardia</td>\n",
       "      <td>40.775235</td>\n",
       "      <td>-73.874517</td>\n",
       "    </tr>\n",
       "    <tr>\n",
       "      <th>1</th>\n",
       "      <td>Airport</td>\n",
       "      <td>John F. Kennedy International Airport</td>\n",
       "      <td>40.642100</td>\n",
       "      <td>-73.789290</td>\n",
       "    </tr>\n",
       "    <tr>\n",
       "      <th>2</th>\n",
       "      <td>Railway station</td>\n",
       "      <td>Grand Central Station</td>\n",
       "      <td>40.752631</td>\n",
       "      <td>-73.977364</td>\n",
       "    </tr>\n",
       "  </tbody>\n",
       "</table>\n",
       "</div>"
      ],
      "text/plain": [
       "              type                                   name   latitude  \\\n",
       "0          Airport                                Guardia  40.775235   \n",
       "1          Airport  John F. Kennedy International Airport  40.642100   \n",
       "2  Railway station                  Grand Central Station  40.752631   \n",
       "\n",
       "   longitude  \n",
       "0 -73.874517  \n",
       "1 -73.789290  \n",
       "2 -73.977364  "
      ]
     },
     "execution_count": 162,
     "metadata": {},
     "output_type": "execute_result"
    }
   ],
   "source": [
    "#Загрузка данных ключевых точек\n",
    "key_points = pd.read_csv('interes_points.csv')\n",
    "key_points"
   ]
  },
  {
   "cell_type": "code",
   "execution_count": 163,
   "metadata": {},
   "outputs": [],
   "source": [
    "# Создание признака раccтояния до ключевых точек\n",
    "\n",
    "pn = key_points[['latitude', 'longitude']].values\n",
    "for i in range(len(pn)):\n",
    "\n",
    "    elem = pn[i]\n",
    "    data[f'distance_{i}'] = haversine_distance(data['pickup_longitude'], data['pickup_latitude'], elem[0], elem[1])\n"
   ]
  },
  {
   "cell_type": "code",
   "execution_count": 164,
   "metadata": {},
   "outputs": [
    {
     "data": {
      "text/html": [
       "<div>\n",
       "<style scoped>\n",
       "    .dataframe tbody tr th:only-of-type {\n",
       "        vertical-align: middle;\n",
       "    }\n",
       "\n",
       "    .dataframe tbody tr th {\n",
       "        vertical-align: top;\n",
       "    }\n",
       "\n",
       "    .dataframe thead th {\n",
       "        text-align: right;\n",
       "    }\n",
       "</style>\n",
       "<table border=\"1\" class=\"dataframe\">\n",
       "  <thead>\n",
       "    <tr style=\"text-align: right;\">\n",
       "      <th></th>\n",
       "      <th>key</th>\n",
       "      <th>fare_amount</th>\n",
       "      <th>pickup_datetime</th>\n",
       "      <th>pickup_longitude</th>\n",
       "      <th>pickup_latitude</th>\n",
       "      <th>dropoff_longitude</th>\n",
       "      <th>dropoff_latitude</th>\n",
       "      <th>passenger_count</th>\n",
       "      <th>year</th>\n",
       "      <th>month</th>\n",
       "      <th>day</th>\n",
       "      <th>day_of_week</th>\n",
       "      <th>hour</th>\n",
       "      <th>distance</th>\n",
       "      <th>distance_0</th>\n",
       "      <th>distance_1</th>\n",
       "      <th>distance_2</th>\n",
       "    </tr>\n",
       "  </thead>\n",
       "  <tbody>\n",
       "    <tr>\n",
       "      <th>0</th>\n",
       "      <td>2009-06-15 17:26:21.0000001</td>\n",
       "      <td>4.5</td>\n",
       "      <td>2009-06-15 17:26:21+00:00</td>\n",
       "      <td>-73.844311</td>\n",
       "      <td>40.721319</td>\n",
       "      <td>-73.841610</td>\n",
       "      <td>40.712278</td>\n",
       "      <td>1</td>\n",
       "      <td>2009</td>\n",
       "      <td>6</td>\n",
       "      <td>15</td>\n",
       "      <td>0</td>\n",
       "      <td>17</td>\n",
       "      <td>1.030764</td>\n",
       "      <td>15082.865136</td>\n",
       "      <td>15066.465383</td>\n",
       "      <td>15083.655389</td>\n",
       "    </tr>\n",
       "    <tr>\n",
       "      <th>1</th>\n",
       "      <td>2010-01-05 16:52:16.0000002</td>\n",
       "      <td>16.9</td>\n",
       "      <td>2010-01-05 16:52:16+00:00</td>\n",
       "      <td>-74.016048</td>\n",
       "      <td>40.711303</td>\n",
       "      <td>-73.979268</td>\n",
       "      <td>40.782004</td>\n",
       "      <td>1</td>\n",
       "      <td>2010</td>\n",
       "      <td>1</td>\n",
       "      <td>5</td>\n",
       "      <td>1</td>\n",
       "      <td>16</td>\n",
       "      <td>8.450134</td>\n",
       "      <td>15079.229220</td>\n",
       "      <td>15062.835267</td>\n",
       "      <td>15079.981662</td>\n",
       "    </tr>\n",
       "    <tr>\n",
       "      <th>2</th>\n",
       "      <td>2011-08-18 00:35:00.00000049</td>\n",
       "      <td>5.7</td>\n",
       "      <td>2011-08-18 00:35:00+00:00</td>\n",
       "      <td>-73.982738</td>\n",
       "      <td>40.761270</td>\n",
       "      <td>-73.991242</td>\n",
       "      <td>40.750562</td>\n",
       "      <td>2</td>\n",
       "      <td>2011</td>\n",
       "      <td>8</td>\n",
       "      <td>18</td>\n",
       "      <td>3</td>\n",
       "      <td>0</td>\n",
       "      <td>1.389525</td>\n",
       "      <td>15081.388879</td>\n",
       "      <td>15064.993861</td>\n",
       "      <td>15082.148128</td>\n",
       "    </tr>\n",
       "    <tr>\n",
       "      <th>3</th>\n",
       "      <td>2012-04-21 04:30:42.0000001</td>\n",
       "      <td>7.7</td>\n",
       "      <td>2012-04-21 04:30:42+00:00</td>\n",
       "      <td>-73.987130</td>\n",
       "      <td>40.733143</td>\n",
       "      <td>-73.991567</td>\n",
       "      <td>40.758092</td>\n",
       "      <td>1</td>\n",
       "      <td>2012</td>\n",
       "      <td>4</td>\n",
       "      <td>21</td>\n",
       "      <td>5</td>\n",
       "      <td>4</td>\n",
       "      <td>2.799270</td>\n",
       "      <td>15080.453532</td>\n",
       "      <td>15064.058617</td>\n",
       "      <td>15081.212119</td>\n",
       "    </tr>\n",
       "    <tr>\n",
       "      <th>4</th>\n",
       "      <td>2010-03-09 07:51:00.000000135</td>\n",
       "      <td>5.3</td>\n",
       "      <td>2010-03-09 07:51:00+00:00</td>\n",
       "      <td>-73.968095</td>\n",
       "      <td>40.768008</td>\n",
       "      <td>-73.956655</td>\n",
       "      <td>40.783762</td>\n",
       "      <td>1</td>\n",
       "      <td>2010</td>\n",
       "      <td>3</td>\n",
       "      <td>9</td>\n",
       "      <td>1</td>\n",
       "      <td>7</td>\n",
       "      <td>1.999157</td>\n",
       "      <td>15081.879242</td>\n",
       "      <td>15065.483732</td>\n",
       "      <td>15082.641650</td>\n",
       "    </tr>\n",
       "    <tr>\n",
       "      <th>...</th>\n",
       "      <td>...</td>\n",
       "      <td>...</td>\n",
       "      <td>...</td>\n",
       "      <td>...</td>\n",
       "      <td>...</td>\n",
       "      <td>...</td>\n",
       "      <td>...</td>\n",
       "      <td>...</td>\n",
       "      <td>...</td>\n",
       "      <td>...</td>\n",
       "      <td>...</td>\n",
       "      <td>...</td>\n",
       "      <td>...</td>\n",
       "      <td>...</td>\n",
       "      <td>...</td>\n",
       "      <td>...</td>\n",
       "      <td>...</td>\n",
       "    </tr>\n",
       "    <tr>\n",
       "      <th>1999995</th>\n",
       "      <td>2014-11-17 13:51:02.0000002</td>\n",
       "      <td>4.0</td>\n",
       "      <td>2014-11-17 13:51:02+00:00</td>\n",
       "      <td>-73.950787</td>\n",
       "      <td>40.770836</td>\n",
       "      <td>-73.951043</td>\n",
       "      <td>40.774543</td>\n",
       "      <td>1</td>\n",
       "      <td>2014</td>\n",
       "      <td>11</td>\n",
       "      <td>17</td>\n",
       "      <td>0</td>\n",
       "      <td>13</td>\n",
       "      <td>0.412763</td>\n",
       "      <td>15082.303368</td>\n",
       "      <td>15065.907272</td>\n",
       "      <td>15083.069566</td>\n",
       "    </tr>\n",
       "    <tr>\n",
       "      <th>1999996</th>\n",
       "      <td>2013-02-25 17:51:28.0000004</td>\n",
       "      <td>7.0</td>\n",
       "      <td>2013-02-25 17:51:28+00:00</td>\n",
       "      <td>-73.983035</td>\n",
       "      <td>40.748276</td>\n",
       "      <td>-73.974725</td>\n",
       "      <td>40.741978</td>\n",
       "      <td>1</td>\n",
       "      <td>2013</td>\n",
       "      <td>2</td>\n",
       "      <td>25</td>\n",
       "      <td>0</td>\n",
       "      <td>17</td>\n",
       "      <td>0.990211</td>\n",
       "      <td>15080.990619</td>\n",
       "      <td>15064.595589</td>\n",
       "      <td>15081.749944</td>\n",
       "    </tr>\n",
       "    <tr>\n",
       "      <th>1999997</th>\n",
       "      <td>2013-07-12 22:03:41.0000006</td>\n",
       "      <td>10.5</td>\n",
       "      <td>2013-07-12 22:03:41+00:00</td>\n",
       "      <td>-74.003482</td>\n",
       "      <td>40.743577</td>\n",
       "      <td>-73.976758</td>\n",
       "      <td>40.765265</td>\n",
       "      <td>1</td>\n",
       "      <td>2013</td>\n",
       "      <td>7</td>\n",
       "      <td>12</td>\n",
       "      <td>4</td>\n",
       "      <td>22</td>\n",
       "      <td>3.298915</td>\n",
       "      <td>15080.448390</td>\n",
       "      <td>15064.054057</td>\n",
       "      <td>15081.203253</td>\n",
       "    </tr>\n",
       "    <tr>\n",
       "      <th>1999998</th>\n",
       "      <td>2009-01-17 09:35:37.0000002</td>\n",
       "      <td>10.9</td>\n",
       "      <td>2009-01-17 09:35:37+00:00</td>\n",
       "      <td>-73.971819</td>\n",
       "      <td>40.797243</td>\n",
       "      <td>-73.985921</td>\n",
       "      <td>40.752459</td>\n",
       "      <td>3</td>\n",
       "      <td>2009</td>\n",
       "      <td>1</td>\n",
       "      <td>17</td>\n",
       "      <td>5</td>\n",
       "      <td>9</td>\n",
       "      <td>5.119378</td>\n",
       "      <td>15082.689828</td>\n",
       "      <td>15066.294496</td>\n",
       "      <td>15083.451093</td>\n",
       "    </tr>\n",
       "    <tr>\n",
       "      <th>1999999</th>\n",
       "      <td>2010-01-16 15:46:00.000000153</td>\n",
       "      <td>12.9</td>\n",
       "      <td>2010-01-16 15:46:00+00:00</td>\n",
       "      <td>-73.955140</td>\n",
       "      <td>40.779382</td>\n",
       "      <td>-73.914775</td>\n",
       "      <td>40.820602</td>\n",
       "      <td>2</td>\n",
       "      <td>2010</td>\n",
       "      <td>1</td>\n",
       "      <td>16</td>\n",
       "      <td>5</td>\n",
       "      <td>15</td>\n",
       "      <td>5.705464</td>\n",
       "      <td>15082.476802</td>\n",
       "      <td>15066.080868</td>\n",
       "      <td>15083.241945</td>\n",
       "    </tr>\n",
       "  </tbody>\n",
       "</table>\n",
       "<p>1999986 rows × 17 columns</p>\n",
       "</div>"
      ],
      "text/plain": [
       "                                   key  fare_amount           pickup_datetime  \\\n",
       "0          2009-06-15 17:26:21.0000001          4.5 2009-06-15 17:26:21+00:00   \n",
       "1          2010-01-05 16:52:16.0000002         16.9 2010-01-05 16:52:16+00:00   \n",
       "2         2011-08-18 00:35:00.00000049          5.7 2011-08-18 00:35:00+00:00   \n",
       "3          2012-04-21 04:30:42.0000001          7.7 2012-04-21 04:30:42+00:00   \n",
       "4        2010-03-09 07:51:00.000000135          5.3 2010-03-09 07:51:00+00:00   \n",
       "...                                ...          ...                       ...   \n",
       "1999995    2014-11-17 13:51:02.0000002          4.0 2014-11-17 13:51:02+00:00   \n",
       "1999996    2013-02-25 17:51:28.0000004          7.0 2013-02-25 17:51:28+00:00   \n",
       "1999997    2013-07-12 22:03:41.0000006         10.5 2013-07-12 22:03:41+00:00   \n",
       "1999998    2009-01-17 09:35:37.0000002         10.9 2009-01-17 09:35:37+00:00   \n",
       "1999999  2010-01-16 15:46:00.000000153         12.9 2010-01-16 15:46:00+00:00   \n",
       "\n",
       "         pickup_longitude  pickup_latitude  dropoff_longitude  \\\n",
       "0              -73.844311        40.721319         -73.841610   \n",
       "1              -74.016048        40.711303         -73.979268   \n",
       "2              -73.982738        40.761270         -73.991242   \n",
       "3              -73.987130        40.733143         -73.991567   \n",
       "4              -73.968095        40.768008         -73.956655   \n",
       "...                   ...              ...                ...   \n",
       "1999995        -73.950787        40.770836         -73.951043   \n",
       "1999996        -73.983035        40.748276         -73.974725   \n",
       "1999997        -74.003482        40.743577         -73.976758   \n",
       "1999998        -73.971819        40.797243         -73.985921   \n",
       "1999999        -73.955140        40.779382         -73.914775   \n",
       "\n",
       "         dropoff_latitude  passenger_count  year  month  day  day_of_week  \\\n",
       "0               40.712278                1  2009      6   15            0   \n",
       "1               40.782004                1  2010      1    5            1   \n",
       "2               40.750562                2  2011      8   18            3   \n",
       "3               40.758092                1  2012      4   21            5   \n",
       "4               40.783762                1  2010      3    9            1   \n",
       "...                   ...              ...   ...    ...  ...          ...   \n",
       "1999995         40.774543                1  2014     11   17            0   \n",
       "1999996         40.741978                1  2013      2   25            0   \n",
       "1999997         40.765265                1  2013      7   12            4   \n",
       "1999998         40.752459                3  2009      1   17            5   \n",
       "1999999         40.820602                2  2010      1   16            5   \n",
       "\n",
       "         hour  distance    distance_0    distance_1    distance_2  \n",
       "0          17  1.030764  15082.865136  15066.465383  15083.655389  \n",
       "1          16  8.450134  15079.229220  15062.835267  15079.981662  \n",
       "2           0  1.389525  15081.388879  15064.993861  15082.148128  \n",
       "3           4  2.799270  15080.453532  15064.058617  15081.212119  \n",
       "4           7  1.999157  15081.879242  15065.483732  15082.641650  \n",
       "...       ...       ...           ...           ...           ...  \n",
       "1999995    13  0.412763  15082.303368  15065.907272  15083.069566  \n",
       "1999996    17  0.990211  15080.990619  15064.595589  15081.749944  \n",
       "1999997    22  3.298915  15080.448390  15064.054057  15081.203253  \n",
       "1999998     9  5.119378  15082.689828  15066.294496  15083.451093  \n",
       "1999999    15  5.705464  15082.476802  15066.080868  15083.241945  \n",
       "\n",
       "[1999986 rows x 17 columns]"
      ]
     },
     "execution_count": 164,
     "metadata": {},
     "output_type": "execute_result"
    }
   ],
   "source": [
    "data"
   ]
  },
  {
   "cell_type": "code",
   "execution_count": 165,
   "metadata": {
    "id": "yECcfDz3kZcJ"
   },
   "outputs": [],
   "source": [
    "features = ['pickup_longitude', 'pickup_latitude', 'dropoff_longitude', 'dropoff_latitude',\n",
    "            'passenger_count', 'year', 'month', 'day', 'day_of_week', 'hour', 'distance', 'distance_0', 'distance_1', 'distance_2'] #, 'distance_3', 'distance_4', 'distance_5', 'distance_6', 'distance_7', 'distance_8', 'distance_9']\n",
    "target = 'fare_amount'\n",
    "X = data[features]\n",
    "y = data[target]\n",
    "\n",
    "# Разделение данных\n",
    "X_train, X_val, y_train, y_val = train_test_split(X, y, test_size=0.2, random_state=42)"
   ]
  },
  {
   "cell_type": "code",
   "execution_count": 172,
   "metadata": {
    "colab": {
     "base_uri": "https://localhost:8080/"
    },
    "executionInfo": {
     "elapsed": 66393,
     "status": "ok",
     "timestamp": 1731267541390,
     "user": {
      "displayName": "Николай Галаев",
      "userId": "02418557182704804760"
     },
     "user_tz": -180
    },
    "id": "irjBP2JokjQ5",
    "outputId": "e13be9e3-7665-4992-b786-518c548a5290"
   },
   "outputs": [
    {
     "name": "stdout",
     "output_type": "stream",
     "text": [
      "0:\tlearn: 9.3030803\ttest: 9.2284686\tbest: 9.2284686 (0)\ttotal: 155ms\tremaining: 3m 51s\n",
      "100:\tlearn: 4.3965315\ttest: 4.3284760\tbest: 4.3284760 (100)\ttotal: 9.23s\tremaining: 2m 7s\n",
      "200:\tlearn: 4.2152234\ttest: 4.2327861\tbest: 4.2327861 (200)\ttotal: 18.1s\tremaining: 1m 56s\n",
      "300:\tlearn: 4.1054147\ttest: 4.1955952\tbest: 4.1955952 (300)\ttotal: 26.9s\tremaining: 1m 47s\n",
      "400:\tlearn: 4.0248853\ttest: 4.1724818\tbest: 4.1724818 (400)\ttotal: 35.8s\tremaining: 1m 38s\n",
      "500:\tlearn: 3.9587435\ttest: 4.1593128\tbest: 4.1592642 (499)\ttotal: 44.6s\tremaining: 1m 28s\n",
      "600:\tlearn: 3.9065375\ttest: 4.1476913\tbest: 4.1476305 (598)\ttotal: 53.2s\tremaining: 1m 19s\n",
      "700:\tlearn: 3.8592871\ttest: 4.1440069\tbest: 4.1440066 (699)\ttotal: 1m 1s\tremaining: 1m 10s\n",
      "800:\tlearn: 3.8177259\ttest: 4.1398917\tbest: 4.1398917 (800)\ttotal: 1m 10s\tremaining: 1m 1s\n",
      "900:\tlearn: 3.7795393\ttest: 4.1372158\tbest: 4.1372158 (900)\ttotal: 1m 19s\tremaining: 52.6s\n",
      "1000:\tlearn: 3.7465362\ttest: 4.1344660\tbest: 4.1344660 (1000)\ttotal: 1m 27s\tremaining: 43.7s\n",
      "1100:\tlearn: 3.7154565\ttest: 4.1318730\tbest: 4.1318434 (1099)\ttotal: 1m 36s\tremaining: 35s\n",
      "1200:\tlearn: 3.6856279\ttest: 4.1290660\tbest: 4.1290660 (1200)\ttotal: 1m 45s\tremaining: 26.2s\n",
      "1300:\tlearn: 3.6596863\ttest: 4.1268866\tbest: 4.1268610 (1299)\ttotal: 1m 54s\tremaining: 17.4s\n",
      "1400:\tlearn: 3.6330276\ttest: 4.1257848\tbest: 4.1256029 (1398)\ttotal: 2m 2s\tremaining: 8.67s\n",
      "1499:\tlearn: 3.6098079\ttest: 4.1251725\tbest: 4.1249446 (1451)\ttotal: 2m 11s\tremaining: 0us\n",
      "\n",
      "bestTest = 4.124944608\n",
      "bestIteration = 1451\n",
      "\n",
      "Shrink model to first 1452 iterations.\n"
     ]
    },
    {
     "data": {
      "text/plain": [
       "<catboost.core.CatBoostRegressor at 0x7426b800a450>"
      ]
     },
     "execution_count": 172,
     "metadata": {},
     "output_type": "execute_result"
    }
   ],
   "source": [
    "# Создание и обучение модели\n",
    "model = CatBoostRegressor(iterations=1500, learning_rate=0.08, depth=10, l2_leaf_reg = 5, loss_function='RMSE', verbose=100, random_seed=52)\n",
    "model.fit(X_train, y_train, eval_set=(X_val, y_val), verbose=100)"
   ]
  },
  {
   "cell_type": "code",
   "execution_count": 173,
   "metadata": {},
   "outputs": [
    {
     "data": {
      "text/plain": [
       "Text(0.5, 1.0, 'Feature Importance')"
      ]
     },
     "execution_count": 173,
     "metadata": {},
     "output_type": "execute_result"
    },
    {
     "data": {
      "image/png": "[encoded data removed]",
      "text/plain": [
       "<Figure size 1500x1000 with 1 Axes>"
      ]
     },
     "metadata": {},
     "output_type": "display_data"
    }
   ],
   "source": [
    "feature_importance = model.feature_importances_\n",
    "sorted_idx = np.argsort(feature_importance)\n",
    "fig = plt.figure(figsize=(15, 10))\n",
    "plt.barh(range(len(sorted_idx)), feature_importance[sorted_idx], align='center')\n",
    "plt.yticks(range(len(sorted_idx)), np.array(X_val.columns)[sorted_idx])\n",
    "plt.title('Feature Importance')\n"
   ]
  },
  {
   "cell_type": "code",
   "execution_count": 174,
   "metadata": {
    "colab": {
     "base_uri": "https://localhost:8080/"
    },
    "executionInfo": {
     "elapsed": 2,
     "status": "ok",
     "timestamp": 1731267544970,
     "user": {
      "displayName": "Николай Галаев",
      "userId": "02418557182704804760"
     },
     "user_tz": -180
    },
    "id": "cP7Pie74kkqB",
    "outputId": "be9863b4-5429-4f17-a112-9cc4a63cff87"
   },
   "outputs": [
    {
     "name": "stdout",
     "output_type": "stream",
     "text": [
      "RMSE на тестовой выборке: 4.12\n"
     ]
    }
   ],
   "source": [
    "# Оценка модели \n",
    "y_pred = model.predict(X_val)\n",
    "rmse = math.sqrt(mean_squared_error(y_val, y_pred))\n",
    "print(f\"RMSE на тестовой выборке: {rmse:.2f}\")"
   ]
  },
  {
   "cell_type": "code",
   "execution_count": 175,
   "metadata": {
    "id": "oJtlDL7okoV5"
   },
   "outputs": [],
   "source": [
    "# Загрузка тестовых данных\n",
    "test_data = pd.read_csv('new-york-city-taxi-fare-prediction/test.csv')\n",
    "\n",
    "# Предобработка тестовых данных\n",
    "test_data['pickup_datetime'] = pd.to_datetime(test_data['pickup_datetime'], errors='coerce')\n",
    "test_data['year'] = test_data['pickup_datetime'].dt.year\n",
    "test_data['month'] = test_data['pickup_datetime'].dt.month\n",
    "test_data['day'] = test_data['pickup_datetime'].dt.day\n",
    "test_data['day_of_week'] = test_data['pickup_datetime'].dt.dayofweek\n",
    "test_data['hour'] = test_data['pickup_datetime'].dt.hour\n",
    "\n",
    "test_data['distance'] = haversine_distance(test_data['pickup_latitude'], test_data['pickup_longitude'],\n",
    "                                      test_data['dropoff_latitude'], test_data['dropoff_longitude'])"
   ]
  },
  {
   "cell_type": "code",
   "execution_count": 176,
   "metadata": {},
   "outputs": [],
   "source": [
    "# Создание признака раccтояния до ключевых точек\n",
    "\n",
    "pn = key_points[['latitude', 'longitude']].values\n",
    "for i in range(len(pn)):\n",
    "\n",
    "    elem = pn[i]\n",
    "    test_data[f'distance_{i}'] = haversine_distance(test_data['pickup_longitude'], test_data['pickup_latitude'], elem[0], elem[1])\n"
   ]
  },
  {
   "cell_type": "code",
   "execution_count": 177,
   "metadata": {
    "colab": {
     "base_uri": "https://localhost:8080/"
    },
    "executionInfo": {
     "elapsed": 680,
     "status": "ok",
     "timestamp": 1731267550566,
     "user": {
      "displayName": "Николай Галаев",
      "userId": "02418557182704804760"
     },
     "user_tz": -180
    },
    "id": "zBQFVd1vkwCQ",
    "outputId": "12645c33-2f5c-4499-d7db-f5266ae5557a"
   },
   "outputs": [
    {
     "name": "stdout",
     "output_type": "stream",
     "text": [
      "Файл taxi_fare_submission.csv успешно создан.\n"
     ]
    }
   ],
   "source": [
    "predictions = model.predict(test_data[features]) # ТО САМОЕ ПРЕДСКАЗАНИЕ\n",
    "\n",
    "# Создаем DataFrame для отправки\n",
    "submission = pd.DataFrame({\n",
    "    'key': test_data['key'],\n",
    "    'fare_amount': predictions\n",
    "    })\n",
    "\n",
    "# Сохранение результатов\n",
    "submission.to_csv('taxi_fare_submission.csv', index=False)\n",
    "print(\"Файл taxi_fare_submission.csv успешно создан.\")"
   ]
  },
  {
   "cell_type": "code",
   "execution_count": null,
   "metadata": {},
   "outputs": [],
   "source": []
  },
  {
   "cell_type": "code",
   "execution_count": null,
   "metadata": {},
   "outputs": [],
   "source": []
  },
  {
   "cell_type": "code",
   "execution_count": null,
   "metadata": {},
   "outputs": [],
   "source": []
  },
  {
   "cell_type": "code",
   "execution_count": null,
   "metadata": {},
   "outputs": [],
   "source": []
  }
 ],
 "metadata": {
  "colab": {
   "authorship_tag": "ABX9TyPHMOd4Qp9uCEFnM+3lD/eG",
   "provenance": []
  },
  "kernelspec": {
   "display_name": "Python 3",
   "name": "python3"
  },
  "language_info": {
   "codemirror_mode": {
    "name": "ipython",
    "version": 3
   },
   "file_extension": ".py",
   "mimetype": "text/x-python",
   "name": "python",
   "nbconvert_exporter": "python",
   "pygments_lexer": "ipython3",
   "version": "3.12.3"
  }
 },
 "nbformat": 4,
 "nbformat_minor": 0
}
